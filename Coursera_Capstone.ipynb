{
  "nbformat": 4,
  "nbformat_minor": 0,
  "metadata": {
    "colab": {
      "name": "Coursera_Capstone.ipynb",
      "provenance": [],
      "authorship_tag": "ABX9TyOVY6Dbym0YKkVzwOkB4a/9",
      "include_colab_link": true
    },
    "kernelspec": {
      "name": "python3",
      "display_name": "Python 3"
    },
    "language_info": {
      "name": "python"
    }
  },
  "cells": [
    {
      "cell_type": "markdown",
      "metadata": {
        "id": "view-in-github",
        "colab_type": "text"
      },
      "source": [
        "<a href=\"https://colab.research.google.com/github/U-Power/Coursera_Capstone/blob/main/Coursera_Capstone.ipynb\" target=\"_parent\"><img src=\"https://colab.research.google.com/assets/colab-badge.svg\" alt=\"Open In Colab\"/></a>"
      ]
    },
    {
      "cell_type": "markdown",
      "metadata": {
        "id": "gMCuU5salgQ3"
      },
      "source": [
        "# **Coursera Capstone Project**\n",
        "In this notebook i will develop an application following the steps of the 'Applied Data Science' course hosted by Coursera"
      ]
    },
    {
      "cell_type": "markdown",
      "metadata": {
        "id": "EpUNLLY5mdqx"
      },
      "source": [
        "## *Import the libraries needed for the project*"
      ]
    },
    {
      "cell_type": "code",
      "metadata": {
        "id": "lfBADCOnmlgI"
      },
      "source": [
        "import pandas as pd\n",
        "import numpy as np"
      ],
      "execution_count": null,
      "outputs": []
    },
    {
      "cell_type": "code",
      "metadata": {
        "colab": {
          "base_uri": "https://localhost:8080/"
        },
        "id": "NQAA0RVjnFmI",
        "outputId": "e970a2d8-a484-4817-9fb5-6e36c0ad9d79"
      },
      "source": [
        "print('Hello Capstone Project Course!')"
      ],
      "execution_count": 1,
      "outputs": [
        {
          "output_type": "stream",
          "text": [
            "Hello Capstone Project!\n"
          ],
          "name": "stdout"
        }
      ]
    },
    {
      "cell_type": "markdown",
      "metadata": {
        "id": "nI3UqSedlcZo"
      },
      "source": [
        ""
      ]
    }
  ]
}