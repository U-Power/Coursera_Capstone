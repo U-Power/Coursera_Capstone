{
  "nbformat": 4,
  "nbformat_minor": 0,
  "metadata": {
    "colab": {
      "name": "TorontoNeighborhoods1.0.ipynb",
      "provenance": [],
      "toc_visible": true,
      "authorship_tag": "ABX9TyPxvfkuFskgabPsiVYg7ya/",
      "include_colab_link": true
    },
    "kernelspec": {
      "name": "python3",
      "display_name": "Python 3"
    },
    "language_info": {
      "name": "python"
    }
  },
  "cells": [
    {
      "cell_type": "markdown",
      "metadata": {
        "id": "view-in-github",
        "colab_type": "text"
      },
      "source": [
        "<a href=\"https://colab.research.google.com/github/U-Power/Coursera_Capstone/blob/main/TorontoNeighborhoods1.1.ipynb\" target=\"_parent\"><img src=\"https://colab.research.google.com/assets/colab-badge.svg\" alt=\"Open In Colab\"/></a>"
      ]
    },
    {
      "cell_type": "markdown",
      "metadata": {
        "id": "cPunCBiLbylg"
      },
      "source": [
        "# **Segmenting and Clustering Neighborhoods in Toronto**"
      ]
    },
    {
      "cell_type": "markdown",
      "metadata": {
        "id": "OY81Vk3ub8rj"
      },
      "source": [
        "## Getting Toronto information on the web and scraping the url page"
      ]
    },
    {
      "cell_type": "code",
      "metadata": {
        "id": "8N0-kTCwcCQO"
      },
      "source": [
        "# import the beautiful soup package to scrape the web page\n",
        "import requests\n",
        "from bs4 import BeautifulSoup\n",
        "import pandas as pd\n",
        "import numpy as np"
      ],
      "execution_count": null,
      "outputs": []
    },
    {
      "cell_type": "code",
      "metadata": {
        "id": "ZOaMPArzcF97"
      },
      "source": [
        "# create a bs4 object\n",
        "r = requests.get('https://en.wikipedia.org/wiki/List_of_postal_codes_of_Canada:_M')\n",
        "soup = BeautifulSoup(r.text, 'html.parser')\n",
        "soup.prettify();"
      ],
      "execution_count": null,
      "outputs": []
    },
    {
      "cell_type": "code",
      "metadata": {
        "id": "u_OmojZkcIZR"
      },
      "source": [
        "# from a closer look you can find the lines containing the three informations needed for each PostalCode (TAG 'p')\n",
        "soup.tbody.find_all('p');"
      ],
      "execution_count": null,
      "outputs": []
    },
    {
      "cell_type": "code",
      "metadata": {
        "colab": {
          "base_uri": "https://localhost:8080/"
        },
        "id": "MBUZ44tlcNvS",
        "outputId": "72b27a85-77b3-45e6-a8c8-2148081342fd"
      },
      "source": [
        "# extract the row string containing the 3 metrics needed\n",
        "row_data = [element.text for element in soup.tbody.find_all('p')]\n",
        "row_data[0:5]"
      ],
      "execution_count": null,
      "outputs": [
        {
          "output_type": "execute_result",
          "data": {
            "text/plain": [
              "['M1ANot assigned\\n',\n",
              " 'M2ANot assigned\\n',\n",
              " 'M3ANorth York(Parkwoods)\\n',\n",
              " 'M4ANorth York(Victoria Village)\\n',\n",
              " 'M5ADowntown Toronto(Regent Park / Harbourfront)\\n']"
            ]
          },
          "metadata": {
            "tags": []
          },
          "execution_count": 87
        }
      ]
    },
    {
      "cell_type": "code",
      "metadata": {
        "colab": {
          "base_uri": "https://localhost:8080/"
        },
        "id": "YIVa_pUVcSpp",
        "outputId": "6aa767e5-68b7-40e1-d035-cfdeca81135c"
      },
      "source": [
        "# extract the postal codes, getting the first 3 digits of each string. Add them to a list\n",
        "pc = [];\n",
        "for i in range(len(row_data)):\n",
        "  pc.append(row_data[i][0:3])\n",
        "pc[0:5]"
      ],
      "execution_count": null,
      "outputs": [
        {
          "output_type": "execute_result",
          "data": {
            "text/plain": [
              "['M1A', 'M2A', 'M3A', 'M4A', 'M5A']"
            ]
          },
          "metadata": {
            "tags": []
          },
          "execution_count": 88
        }
      ]
    },
    {
      "cell_type": "code",
      "metadata": {
        "colab": {
          "base_uri": "https://localhost:8080/"
        },
        "id": "OZbXm8hvcUhQ",
        "outputId": "1f1c4270-e03d-4118-f9bc-c4c56f1a4d54"
      },
      "source": [
        "# extract the rest of data and then split it, adding the first element of the split to the Borough list\n",
        "borough = [];\n",
        "for i in range(len(row_data)):\n",
        "  borough.append(row_data[i][3:].split('(')[0].split('\\n')[0])\n",
        "borough[0:5]"
      ],
      "execution_count": null,
      "outputs": [
        {
          "output_type": "execute_result",
          "data": {
            "text/plain": [
              "['Not assigned',\n",
              " 'Not assigned',\n",
              " 'North York',\n",
              " 'North York',\n",
              " 'Downtown Toronto']"
            ]
          },
          "metadata": {
            "tags": []
          },
          "execution_count": 89
        }
      ]
    },
    {
      "cell_type": "code",
      "metadata": {
        "id": "VIC_ABbXcWtZ"
      },
      "source": [
        "# extract the rest of data and then split it, adding the second element of the split to the Neighborhoods list (add 'Not assigned', first element if there is not a second one)\n",
        "neighb = [];\n",
        "for i in range(len(row_data)):\n",
        "  try: neighb.append(row_data[i][3:].split('(')[1].split(')')[0].strip().replace(' / ',', ')) \n",
        "  except: neighb.append(row_data[i][3:].split('(')[0].split('\\n')[0])"
      ],
      "execution_count": null,
      "outputs": []
    },
    {
      "cell_type": "markdown",
      "metadata": {
        "id": "7TCWsKE6caep"
      },
      "source": [
        "## Create a pandas DataFrame and cleanse the data"
      ]
    },
    {
      "cell_type": "code",
      "metadata": {
        "colab": {
          "base_uri": "https://localhost:8080/",
          "height": 202
        },
        "id": "yuo0NGPUcbkV",
        "outputId": "4d372a7c-d40b-41c6-f080-f979fd8b30bf"
      },
      "source": [
        "# create a dictionary to store the 3 columns needed in the dataFrame\n",
        "data = {}\n",
        "data['PostalCode'] = pc\n",
        "data['Borough'] = borough\n",
        "data['Neighborhood'] = neighb\n",
        "\n",
        "#create a DataFrame\n",
        "df = pd.DataFrame(data)\n",
        "df[0:5]"
      ],
      "execution_count": null,
      "outputs": [
        {
          "output_type": "execute_result",
          "data": {
            "text/html": [
              "<div>\n",
              "<style scoped>\n",
              "    .dataframe tbody tr th:only-of-type {\n",
              "        vertical-align: middle;\n",
              "    }\n",
              "\n",
              "    .dataframe tbody tr th {\n",
              "        vertical-align: top;\n",
              "    }\n",
              "\n",
              "    .dataframe thead th {\n",
              "        text-align: right;\n",
              "    }\n",
              "</style>\n",
              "<table border=\"1\" class=\"dataframe\">\n",
              "  <thead>\n",
              "    <tr style=\"text-align: right;\">\n",
              "      <th></th>\n",
              "      <th>PostalCode</th>\n",
              "      <th>Borough</th>\n",
              "      <th>Neighborhood</th>\n",
              "    </tr>\n",
              "  </thead>\n",
              "  <tbody>\n",
              "    <tr>\n",
              "      <th>0</th>\n",
              "      <td>M1A</td>\n",
              "      <td>Not assigned</td>\n",
              "      <td>Not assigned</td>\n",
              "    </tr>\n",
              "    <tr>\n",
              "      <th>1</th>\n",
              "      <td>M2A</td>\n",
              "      <td>Not assigned</td>\n",
              "      <td>Not assigned</td>\n",
              "    </tr>\n",
              "    <tr>\n",
              "      <th>2</th>\n",
              "      <td>M3A</td>\n",
              "      <td>North York</td>\n",
              "      <td>Parkwoods</td>\n",
              "    </tr>\n",
              "    <tr>\n",
              "      <th>3</th>\n",
              "      <td>M4A</td>\n",
              "      <td>North York</td>\n",
              "      <td>Victoria Village</td>\n",
              "    </tr>\n",
              "    <tr>\n",
              "      <th>4</th>\n",
              "      <td>M5A</td>\n",
              "      <td>Downtown Toronto</td>\n",
              "      <td>Regent Park, Harbourfront</td>\n",
              "    </tr>\n",
              "  </tbody>\n",
              "</table>\n",
              "</div>"
            ],
            "text/plain": [
              "  PostalCode           Borough               Neighborhood\n",
              "0        M1A      Not assigned               Not assigned\n",
              "1        M2A      Not assigned               Not assigned\n",
              "2        M3A        North York                  Parkwoods\n",
              "3        M4A        North York           Victoria Village\n",
              "4        M5A  Downtown Toronto  Regent Park, Harbourfront"
            ]
          },
          "metadata": {
            "tags": []
          },
          "execution_count": 91
        }
      ]
    },
    {
      "cell_type": "code",
      "metadata": {
        "id": "gCMc6bNkcjOW"
      },
      "source": [
        "# assign NaN values to 'Not assigned' rows and drop them\n",
        "df.Borough.replace('Not assigned', np.nan, inplace=True)\n",
        "df.dropna(subset=['Borough'], inplace=True)\n",
        "df.reset_index(drop=True, inplace=True)"
      ],
      "execution_count": null,
      "outputs": []
    },
    {
      "cell_type": "code",
      "metadata": {
        "colab": {
          "base_uri": "https://localhost:8080/",
          "height": 570
        },
        "id": "csVmf2V4c6St",
        "outputId": "5eeec9b5-cdac-475b-a6d0-047b9a4bcd27"
      },
      "source": [
        "# take a look at the data grouping by 'Borough' and adjust the rows labels\n",
        "df.groupby('Borough').describe()"
      ],
      "execution_count": null,
      "outputs": [
        {
          "output_type": "execute_result",
          "data": {
            "text/html": [
              "<div>\n",
              "<style scoped>\n",
              "    .dataframe tbody tr th:only-of-type {\n",
              "        vertical-align: middle;\n",
              "    }\n",
              "\n",
              "    .dataframe tbody tr th {\n",
              "        vertical-align: top;\n",
              "    }\n",
              "\n",
              "    .dataframe thead tr th {\n",
              "        text-align: left;\n",
              "    }\n",
              "\n",
              "    .dataframe thead tr:last-of-type th {\n",
              "        text-align: right;\n",
              "    }\n",
              "</style>\n",
              "<table border=\"1\" class=\"dataframe\">\n",
              "  <thead>\n",
              "    <tr>\n",
              "      <th></th>\n",
              "      <th colspan=\"4\" halign=\"left\">PostalCode</th>\n",
              "      <th colspan=\"4\" halign=\"left\">Neighborhood</th>\n",
              "    </tr>\n",
              "    <tr>\n",
              "      <th></th>\n",
              "      <th>count</th>\n",
              "      <th>unique</th>\n",
              "      <th>top</th>\n",
              "      <th>freq</th>\n",
              "      <th>count</th>\n",
              "      <th>unique</th>\n",
              "      <th>top</th>\n",
              "      <th>freq</th>\n",
              "    </tr>\n",
              "    <tr>\n",
              "      <th>Borough</th>\n",
              "      <th></th>\n",
              "      <th></th>\n",
              "      <th></th>\n",
              "      <th></th>\n",
              "      <th></th>\n",
              "      <th></th>\n",
              "      <th></th>\n",
              "      <th></th>\n",
              "    </tr>\n",
              "  </thead>\n",
              "  <tbody>\n",
              "    <tr>\n",
              "      <th>Central Toronto</th>\n",
              "      <td>9</td>\n",
              "      <td>9</td>\n",
              "      <td>M5R</td>\n",
              "      <td>1</td>\n",
              "      <td>9</td>\n",
              "      <td>9</td>\n",
              "      <td>North Toronto West</td>\n",
              "      <td>1</td>\n",
              "    </tr>\n",
              "    <tr>\n",
              "      <th>Downtown Toronto</th>\n",
              "      <td>17</td>\n",
              "      <td>17</td>\n",
              "      <td>M5S</td>\n",
              "      <td>1</td>\n",
              "      <td>17</td>\n",
              "      <td>17</td>\n",
              "      <td>Central Bay Street</td>\n",
              "      <td>1</td>\n",
              "    </tr>\n",
              "    <tr>\n",
              "      <th>Downtown TorontoStn A PO Boxes25 The Esplanade</th>\n",
              "      <td>1</td>\n",
              "      <td>1</td>\n",
              "      <td>M5W</td>\n",
              "      <td>1</td>\n",
              "      <td>1</td>\n",
              "      <td>1</td>\n",
              "      <td>Enclave of M5E</td>\n",
              "      <td>1</td>\n",
              "    </tr>\n",
              "    <tr>\n",
              "      <th>East Toronto</th>\n",
              "      <td>4</td>\n",
              "      <td>4</td>\n",
              "      <td>M4L</td>\n",
              "      <td>1</td>\n",
              "      <td>4</td>\n",
              "      <td>4</td>\n",
              "      <td>India Bazaar, The Beaches West</td>\n",
              "      <td>1</td>\n",
              "    </tr>\n",
              "    <tr>\n",
              "      <th>East TorontoBusiness reply mail Processing Centre969 Eastern</th>\n",
              "      <td>1</td>\n",
              "      <td>1</td>\n",
              "      <td>M7Y</td>\n",
              "      <td>1</td>\n",
              "      <td>1</td>\n",
              "      <td>1</td>\n",
              "      <td>Enclave of M4L</td>\n",
              "      <td>1</td>\n",
              "    </tr>\n",
              "    <tr>\n",
              "      <th>East York</th>\n",
              "      <td>4</td>\n",
              "      <td>4</td>\n",
              "      <td>M4H</td>\n",
              "      <td>1</td>\n",
              "      <td>4</td>\n",
              "      <td>4</td>\n",
              "      <td>Thorncliffe Park</td>\n",
              "      <td>1</td>\n",
              "    </tr>\n",
              "    <tr>\n",
              "      <th>East YorkEast Toronto</th>\n",
              "      <td>1</td>\n",
              "      <td>1</td>\n",
              "      <td>M4J</td>\n",
              "      <td>1</td>\n",
              "      <td>1</td>\n",
              "      <td>1</td>\n",
              "      <td>The Danforth  East</td>\n",
              "      <td>1</td>\n",
              "    </tr>\n",
              "    <tr>\n",
              "      <th>Etobicoke</th>\n",
              "      <td>11</td>\n",
              "      <td>11</td>\n",
              "      <td>M8W</td>\n",
              "      <td>1</td>\n",
              "      <td>11</td>\n",
              "      <td>11</td>\n",
              "      <td>West Deane Park, Princess Gardens, Martin Grov...</td>\n",
              "      <td>1</td>\n",
              "    </tr>\n",
              "    <tr>\n",
              "      <th>EtobicokeNorthwest</th>\n",
              "      <td>1</td>\n",
              "      <td>1</td>\n",
              "      <td>M9W</td>\n",
              "      <td>1</td>\n",
              "      <td>1</td>\n",
              "      <td>1</td>\n",
              "      <td>Clairville, Humberwood, Woodbine Downs, West H...</td>\n",
              "      <td>1</td>\n",
              "    </tr>\n",
              "    <tr>\n",
              "      <th>MississaugaCanada Post Gateway Processing Centre</th>\n",
              "      <td>1</td>\n",
              "      <td>1</td>\n",
              "      <td>M7R</td>\n",
              "      <td>1</td>\n",
              "      <td>1</td>\n",
              "      <td>1</td>\n",
              "      <td>Enclave of L4W</td>\n",
              "      <td>1</td>\n",
              "    </tr>\n",
              "    <tr>\n",
              "      <th>North York</th>\n",
              "      <td>24</td>\n",
              "      <td>24</td>\n",
              "      <td>M2K</td>\n",
              "      <td>1</td>\n",
              "      <td>24</td>\n",
              "      <td>19</td>\n",
              "      <td>Downsview</td>\n",
              "      <td>4</td>\n",
              "    </tr>\n",
              "    <tr>\n",
              "      <th>Queen's Park</th>\n",
              "      <td>1</td>\n",
              "      <td>1</td>\n",
              "      <td>M7A</td>\n",
              "      <td>1</td>\n",
              "      <td>1</td>\n",
              "      <td>1</td>\n",
              "      <td>Ontario Provincial Government</td>\n",
              "      <td>1</td>\n",
              "    </tr>\n",
              "    <tr>\n",
              "      <th>Scarborough</th>\n",
              "      <td>17</td>\n",
              "      <td>17</td>\n",
              "      <td>M1W</td>\n",
              "      <td>1</td>\n",
              "      <td>17</td>\n",
              "      <td>17</td>\n",
              "      <td>Birch Cliff, Cliffside West</td>\n",
              "      <td>1</td>\n",
              "    </tr>\n",
              "    <tr>\n",
              "      <th>West Toronto</th>\n",
              "      <td>6</td>\n",
              "      <td>6</td>\n",
              "      <td>M6H</td>\n",
              "      <td>1</td>\n",
              "      <td>6</td>\n",
              "      <td>6</td>\n",
              "      <td>High Park, The Junction South</td>\n",
              "      <td>1</td>\n",
              "    </tr>\n",
              "    <tr>\n",
              "      <th>York</th>\n",
              "      <td>5</td>\n",
              "      <td>5</td>\n",
              "      <td>M6N</td>\n",
              "      <td>1</td>\n",
              "      <td>5</td>\n",
              "      <td>5</td>\n",
              "      <td>Weston</td>\n",
              "      <td>1</td>\n",
              "    </tr>\n",
              "  </tbody>\n",
              "</table>\n",
              "</div>"
            ],
            "text/plain": [
              "                                                   PostalCode  ... Neighborhood\n",
              "                                                        count  ...         freq\n",
              "Borough                                                        ...             \n",
              "Central Toronto                                             9  ...            1\n",
              "Downtown Toronto                                           17  ...            1\n",
              "Downtown TorontoStn A PO Boxes25 The Esplanade              1  ...            1\n",
              "East Toronto                                                4  ...            1\n",
              "East TorontoBusiness reply mail Processing Cent...          1  ...            1\n",
              "East York                                                   4  ...            1\n",
              "East YorkEast Toronto                                       1  ...            1\n",
              "Etobicoke                                                  11  ...            1\n",
              "EtobicokeNorthwest                                          1  ...            1\n",
              "MississaugaCanada Post Gateway Processing Centre            1  ...            1\n",
              "North York                                                 24  ...            4\n",
              "Queen's Park                                                1  ...            1\n",
              "Scarborough                                                17  ...            1\n",
              "West Toronto                                                6  ...            1\n",
              "York                                                        5  ...            1\n",
              "\n",
              "[15 rows x 8 columns]"
            ]
          },
          "metadata": {
            "tags": []
          },
          "execution_count": 95
        }
      ]
    },
    {
      "cell_type": "code",
      "metadata": {
        "id": "lhOsrn5rc89c"
      },
      "source": [
        "# adjust the label of some borough names\n",
        "df['Borough']=df['Borough'].replace({'Downtown TorontoStn A PO Boxes25 The Esplanade':'Downtown Toronto Stn A',\n",
        "                                             'East TorontoBusiness reply mail Processing Centre969 Eastern':'East Toronto Business',\n",
        "                                             'EtobicokeNorthwest':'Etobicoke Northwest','East YorkEast Toronto':'East York/East Toronto',\n",
        "                                             'MississaugaCanada Post Gateway Processing Centre':'Mississauga'})"
      ],
      "execution_count": null,
      "outputs": []
    },
    {
      "cell_type": "code",
      "metadata": {
        "colab": {
          "base_uri": "https://localhost:8080/"
        },
        "id": "g8LsrAB8c_yN",
        "outputId": "5f01fba7-fb37-4235-c682-763530466f6a"
      },
      "source": [
        "print('The dimensions of the Data Frame are:', df.shape)"
      ],
      "execution_count": null,
      "outputs": [
        {
          "output_type": "stream",
          "text": [
            "The dimensions of the Data Frame are: (103, 3)\n"
          ],
          "name": "stdout"
        }
      ]
    },
    {
      "cell_type": "markdown",
      "metadata": {
        "id": "fVvKt0W2obs4"
      },
      "source": [
        "### It is possible to add more rows for every Neighborhood (to make a better analysis)"
      ]
    },
    {
      "cell_type": "code",
      "metadata": {
        "id": "SkmfSOkqocuJ"
      },
      "source": [
        "# try to duplicate the rows which have multiple Neighborhood values in order to map them separately\n",
        "new_df = pd.DataFrame(df.Neighborhood.str.split(', ').tolist(), index=df.PostalCode).stack()\n",
        "new_df = new_df.reset_index([0, 'PostalCode'])\n",
        "new_df.columns = ['PostalCode', 'Neighborhood']\n",
        "new_df.head(10)"
      ],
      "execution_count": null,
      "outputs": []
    },
    {
      "cell_type": "code",
      "metadata": {
        "id": "wCf665gMofOj"
      },
      "source": [
        "# create a separate df which links postal codes to boroughs\n",
        "df_bor = df.drop('Neighborhood', axis=1)\n",
        "df_bor"
      ],
      "execution_count": null,
      "outputs": []
    },
    {
      "cell_type": "code",
      "metadata": {
        "id": "A5lJQwzFoi6h"
      },
      "source": [
        "# merge the dataFrames to have a complete single row for each neighborhood with the borough assigned\n",
        "df_adj = new_df.merge(df_bor, how='inner')\n",
        "df_adj"
      ],
      "execution_count": null,
      "outputs": []
    },
    {
      "cell_type": "markdown",
      "metadata": {
        "id": "Qo0zQkkmo0GQ"
      },
      "source": [
        "# Use the geopy Python library to get Neighborhood coordinates\n",
        "**In order to simplify you can drop this section and use the CSV provided instead.**\n",
        "**It is suggested since getting the coordinates for every Neighborhood does not give additional informations compared with using postal codes. Also, it takes 2-3 min to run the cycle for all the Neighborhoods**"
      ]
    },
    {
      "cell_type": "code",
      "metadata": {
        "id": "DLw2svLtpclh"
      },
      "source": [
        "# import the libraries\n",
        "!pip install geopy # uncomment this line if you haven't completed the Foursquare API lab\n",
        "from geopy.geocoders import Nominatim # convert an address into latitude and longitude values"
      ],
      "execution_count": null,
      "outputs": []
    },
    {
      "cell_type": "code",
      "metadata": {
        "id": "tsdJnJDzphbz"
      },
      "source": [
        "# get the coordinates for every neighborhood in Toronto and append them to the dataFrame (it takes 2-3 min)\n",
        "latitudes = [];\n",
        "longitudes = [];\n",
        " \n",
        "for i in range(len(df_adj['Neighborhood'])):\n",
        "  try:\n",
        "    address = 'Toronto, Ontario, ' + df_adj['Neighborhood'][i]\n",
        "    geolocator = Nominatim(user_agent=\"toronto_explorer\")\n",
        "    location = geolocator.geocode(address)\n",
        "    latitude = location.latitude\n",
        "    longitude = location.longitude\n",
        "    latitudes.append(latitude)\n",
        "    longitudes.append(longitude)\n",
        "  except:\n",
        "    latitudes.append('NaN')\n",
        "    longitudes.append('NaN')\n",
        "\n",
        "\n",
        "df_fin = df_adj\n",
        "df_fin['Latitude'] = latitudes\n",
        "df_fin['Longitude'] = longitudes"
      ],
      "execution_count": null,
      "outputs": []
    },
    {
      "cell_type": "code",
      "metadata": {
        "id": "RGET4xzypicV"
      },
      "source": [
        "# pay attention at the unique coordinates values we get for every Neighborhood\n",
        "# it can be compared with the unique values we get from the csv provided\n",
        "df_fin.describe()"
      ],
      "execution_count": null,
      "outputs": []
    },
    {
      "cell_type": "code",
      "metadata": {
        "id": "EOBG8RUTpp65"
      },
      "source": [
        "# the NaN rows can be eliminated in order to ease the next part of the 4square API \n",
        "df_fin = df_fin[df_fin.Latitude != 'NaN']\n",
        "df_fin.describe()"
      ],
      "execution_count": null,
      "outputs": []
    },
    {
      "cell_type": "code",
      "metadata": {
        "id": "OxrS-JMPpxRZ"
      },
      "source": [
        "# get the csv file, put it in a dataFrame\n",
        "url = 'https://cf-courses-data.s3.us.cloud-object-storage.appdomain.cloud/IBMDeveloperSkillsNetwork-DS0701EN-SkillsNetwork/labs_v1/Geospatial_Coordinates.csv'\n",
        "latlong_df = pd.read_csv(url)\n",
        "latlong_df.head()"
      ],
      "execution_count": null,
      "outputs": []
    },
    {
      "cell_type": "code",
      "metadata": {
        "id": "L9gp52u-p1pI"
      },
      "source": [
        "# notice that the unique coordinates values in the CSV and in the dataframe built with the API\n",
        "print('The number of neighborhood coord for the CSV: {} \\nThe number of neighborhood coord fetched with the API: {} \\nSo we can make a better analysis using the data fetched from the API'.format(latlong_df['Latitude'].nunique(), df_fin['Latitude'].nunique()))"
      ],
      "execution_count": null,
      "outputs": []
    }
  ]
}